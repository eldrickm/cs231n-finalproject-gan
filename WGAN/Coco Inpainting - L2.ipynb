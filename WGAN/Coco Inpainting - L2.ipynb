{
 "cells": [
  {
   "cell_type": "code",
   "execution_count": 1,
   "metadata": {
    "collapsed": false
   },
   "outputs": [],
   "source": [
    "import argparse\n",
    "import os\n",
    "import random\n",
    "import torch\n",
    "import torch.nn as nn\n",
    "import torch.optim as optim\n",
    "from torch.autograd import Variable\n",
    "import torch.nn.functional as F\n",
    "import matplotlib.pyplot as plt\n",
    "import numpy as np\n",
    "import torchvision.utils as vutils\n",
    "import torchvision.datasets as dset\n",
    "import torchvision.transforms as transforms\n",
    "import copy\n",
    "%matplotlib inline"
   ]
  },
  {
   "cell_type": "code",
   "execution_count": 2,
   "metadata": {
    "collapsed": false
   },
   "outputs": [
    {
     "name": "stdout",
     "output_type": "stream",
     "text": [
      "Random Seed:  6451\n"
     ]
    },
    {
     "data": {
      "text/plain": [
       "<torch._C.Generator at 0x7fc2745fea38>"
      ]
     },
     "execution_count": 2,
     "metadata": {},
     "output_type": "execute_result"
    }
   ],
   "source": [
    "manualSeed = random.randint(1, 10000)  # fix seed\n",
    "print \"Random Seed: \", manualSeed\n",
    "random.seed(manualSeed)\n",
    "torch.manual_seed(manualSeed)"
   ]
  },
  {
   "cell_type": "code",
   "execution_count": 3,
   "metadata": {
    "collapsed": false
   },
   "outputs": [
    {
     "name": "stdout",
     "output_type": "stream",
     "text": [
      "loading annotations into memory...\n",
      "Done (t=0.94s)\n",
      "creating index...\n",
      "index created!\n"
     ]
    }
   ],
   "source": [
    "coco_dataset = dset.CocoCaptions(\n",
    "    root='/home/sandeep/Datasets/inpainting/train2014',\n",
    "    annFile='/home/sandeep/Datasets/inpainting/annotations/captions_train2014.json',\n",
    "    transform=transforms.ToTensor()\n",
    ")"
   ]
  },
  {
   "cell_type": "code",
   "execution_count": 4,
   "metadata": {
    "collapsed": true
   },
   "outputs": [],
   "source": [
    "class DataIterator(object):\n",
    "    \"\"\"Data Iterator for COCO.\"\"\"\n",
    "\n",
    "    def __init__(\n",
    "        self,\n",
    "        train_path='/home/sandeep/Datasets/inpainting/train2014',\n",
    "        dev_path='/home/sandeep/Datasets/inpainting/val2014',\n",
    "        train_annotation_path='/home/sandeep/Datasets/inpainting/annotations/captions_train2014.json',\n",
    "        dev_annotation_path='/home/sandeep/Datasets/inpainting/annotations/captions_val2014.json',\n",
    "    ):\n",
    "        \"\"\"Initialize params.\"\"\"\n",
    "        self.train_path = train_path\n",
    "        self.train_annotation_path = train_annotation_path\n",
    "        self.dev_path = dev_path\n",
    "        self.dev_annotation_path = dev_annotation_path\n",
    "        print 'Processing data ...'\n",
    "        self._get_real_and_fake_images()\n",
    "\n",
    "    def _get_real_and_fake_images(self):\n",
    "        \"\"\"Get real and fake images from path.\"\"\"\n",
    "        self.train_dataset = dset.CocoCaptions(\n",
    "            root=self.train_path,\n",
    "            annFile=self.train_annotation_path,\n",
    "            transform=transforms.ToTensor()\n",
    "        )\n",
    "        self.valid_dataset = dset.CocoCaptions(\n",
    "            root=self.dev_path, \n",
    "            annFile=self.dev_annotation_path,\n",
    "            transform=transforms.ToTensor()\n",
    "        )\n",
    "        \n",
    "        print 'Populating training images & captions ...'\n",
    "        train_images = []\n",
    "        train_captions = []\n",
    "        \n",
    "        # There appears to be one image missing for some weird reason.\n",
    "        try:\n",
    "            for img, captions in self.train_dataset:\n",
    "                train_images.append(img)\n",
    "                train_captions.append(captions)\n",
    "        except IOError:\n",
    "            pass\n",
    "        \n",
    "        train_images = torch.stack(train_images)\n",
    "        \n",
    "        print 'Populating validation images ...'\n",
    "        valid_images = torch.stack([x[0] for x in self.valid_dataset])\n",
    "        valid_captions = [x[1] for x in self.valid_dataset]\n",
    "        \n",
    "        print 'Cropping 32x32 patch for training images ...'\n",
    "        noisy_train_images = copy.deepcopy(train_images.numpy())\n",
    "        noisy_train_images[:, :, 16:48, 16:48] = 0\n",
    "        noisy_train_images = torch.from_numpy(noisy_train_images)\n",
    "\n",
    "        print 'Cropping 32x32 patch for validation images ...'\n",
    "        noisy_valid_images = copy.deepcopy(valid_images.numpy())\n",
    "        noisy_valid_images[:, :, 16:48, 16:48] = 0\n",
    "        noisy_valid_images = torch.from_numpy(noisy_valid_images)\n",
    "        \n",
    "        self.train_images = train_images\n",
    "        self.valid_images = valid_images\n",
    "\n",
    "        self.noisy_train_images = noisy_train_images\n",
    "        self.noisy_valid_images = noisy_valid_images\n",
    "        \n",
    "        self.num_train = len(train_images)\n",
    "        self.num_valid = len(valid_images)\n",
    "\n",
    "    def get_train_minibatch(self, index, batch_size):\n",
    "        \"\"\"Return a minibatch of real and fake examples.\"\"\"\n",
    "        real_examples = Variable(self.train_images[index: index + batch_size]).cuda()\n",
    "        fake_examples = Variable(self.noisy_train_images[index: index + batch_size]).cuda()\n",
    "        return real_examples, real_examples[:, :, 16:48, 16:48], fake_examples\n",
    "\n",
    "    def get_valid_minibatch(self, index, batch_size):\n",
    "        \"\"\"Return a minibatch of real and fake examples.\"\"\"\n",
    "        real_examples = Variable(self.valid_images[index: index + batch_size]).cuda()\n",
    "        fake_examples = Variable(self.noisy_valid_images[index: index + batch_size]).cuda()\n",
    "        \n",
    "        return real_examples, real_examples[:, :, 16:48, 16:48], fake_examples"
   ]
  },
  {
   "cell_type": "code",
   "execution_count": 5,
   "metadata": {
    "collapsed": false
   },
   "outputs": [
    {
     "name": "stdout",
     "output_type": "stream",
     "text": [
      "Processing data ...\n",
      "loading annotations into memory...\n",
      "Done (t=1.02s)\n",
      "creating index...\n",
      "index created!\n",
      "loading annotations into memory...\n",
      "Done (t=0.45s)\n",
      "creating index...\n",
      "index created!\n",
      "Populating training images & captions ...\n",
      "Populating validation images ...\n",
      "Cropping 32x32 patch for training images ...\n",
      "Cropping 32x32 patch for validation images ...\n"
     ]
    }
   ],
   "source": [
    "iterator = DataIterator()"
   ]
  },
  {
   "cell_type": "code",
   "execution_count": 6,
   "metadata": {
    "collapsed": false
   },
   "outputs": [
    {
     "data": {
      "text/plain": [
       "(-0.5, 63.5, 63.5, -0.5)"
      ]
     },
     "execution_count": 6,
     "metadata": {},
     "output_type": "execute_result"
    },
    {
     "data": {
      "image/png": "[encoded data removed]",
      "text/plain": [
       "<matplotlib.figure.Figure at 0x7fc2092397d0>"
      ]
     },
     "metadata": {},
     "output_type": "display_data"
    }
   ],
   "source": [
    "fig = plt.figure(figsize=(10, 5))\n",
    "fig.add_subplot(1, 2, 1)\n",
    "plt.imshow(iterator.train_images[14].numpy().transpose(1, 2, 0))\n",
    "plt.axis('off')\n",
    "fig.add_subplot(1, 2, 2)\n",
    "plt.imshow(iterator.noisy_train_images[14].numpy().transpose(1, 2, 0))\n",
    "plt.axis('off')"
   ]
  },
  {
   "cell_type": "code",
   "execution_count": 7,
   "metadata": {
    "collapsed": false
   },
   "outputs": [],
   "source": [
    "class UNetGenerator(nn.Module):\n",
    "    \"\"\"Generator module.\"\"\"\n",
    "\n",
    "    def __init__(self, start_filter):\n",
    "        \"\"\"Initialize generator.\"\"\"\n",
    "        super(UNetGenerator, self).__init__()\n",
    "\n",
    "        #################################\n",
    "        ####### DOWNSAMPLER MODULE ######\n",
    "        #################################\n",
    "\n",
    "        # 3 x 64 x 64\n",
    "        self.conv1 = nn.Conv2d(\n",
    "            in_channels=3, out_channels=start_filter, kernel_size=4,\n",
    "            stride=2, padding=1, bias=False\n",
    "        )\n",
    "        self.bn1 = nn.BatchNorm2d(start_filter)\n",
    "\n",
    "        # 16 x 32 x 32\n",
    "        self.conv2 = nn.Conv2d(\n",
    "            in_channels=start_filter, out_channels=start_filter * 2,\n",
    "            kernel_size=4, stride=2, padding=1, bias=False\n",
    "        )\n",
    "        self.bn2 = nn.BatchNorm2d(start_filter * 2)\n",
    "\n",
    "        # 32 x 16 x 16\n",
    "        self.conv3 = nn.Conv2d(\n",
    "            in_channels=start_filter * 2, out_channels=start_filter * 3,\n",
    "            kernel_size=4, stride=2, padding=1, bias=False\n",
    "        )\n",
    "        self.bn3 = nn.BatchNorm2d(start_filter * 3)\n",
    "\n",
    "        # 64 x 8 x 8\n",
    "        self.conv4 = nn.Conv2d(\n",
    "            in_channels=start_filter * 3, out_channels=start_filter * 4,\n",
    "            kernel_size=4, stride=2, padding=1, bias=False\n",
    "        )\n",
    "        self.bn4 = nn.BatchNorm2d(start_filter * 4)\n",
    "\n",
    "        #################################\n",
    "        ####### UPSAMPLER MODULE ########\n",
    "        #################################\n",
    "\n",
    "        # 128 x 4 x 4\n",
    "        self.tconv1 = nn.ConvTranspose2d(\n",
    "            in_channels=start_filter * 4, out_channels=start_filter * 3,\n",
    "            kernel_size=4, stride=2, padding=1, bias=False\n",
    "        )\n",
    "        self.tbn1 = nn.BatchNorm2d(start_filter * 3)\n",
    "\n",
    "        # 64 x 8 x 8\n",
    "        self.tconv2 = nn.ConvTranspose2d(\n",
    "            in_channels=start_filter * 3, out_channels=start_filter * 2,\n",
    "            kernel_size=4, stride=2, padding=1, bias=False\n",
    "        )\n",
    "        self.tbn2 = nn.BatchNorm2d(start_filter * 2)\n",
    "\n",
    "        # 32 x 16 x 16\n",
    "        self.tconv3 = nn.ConvTranspose2d(\n",
    "            in_channels=start_filter * 2, out_channels=start_filter,\n",
    "            kernel_size=4, stride=2, padding=1, bias=False\n",
    "        )\n",
    "        self.tbn3 = nn.BatchNorm2d(start_filter)\n",
    "\n",
    "        # 16 x 32 x 32\n",
    "        self.tconv4 = nn.ConvTranspose2d(\n",
    "            in_channels=start_filter, out_channels=3,\n",
    "            kernel_size=4, stride=2, padding=1, bias=False\n",
    "        )\n",
    "        # Finally - 3 x 64 x 64\n",
    "\n",
    "    def forward(self, input):\n",
    "        \"\"\"Propogate input through the generator.\"\"\"\n",
    "        # Downsampling steps.\n",
    "        conv1 = F.relu(self.bn1(self.conv1(input)))\n",
    "        conv2 = F.relu(self.bn2(self.conv2(conv1)))\n",
    "        conv3 = F.relu(self.bn3(self.conv3(conv2)))\n",
    "        conv4 = F.relu(self.bn4(self.conv4(conv3)))\n",
    "\n",
    "        # Upsampling steps.\n",
    "        tconv1 = F.relu(self.tbn1(self.tconv1(conv4)))\n",
    "        tconv2 = F.relu(self.tbn2(self.tconv2(tconv1)))\n",
    "        tconv3 = F.relu(self.tbn3(self.tconv3(tconv2)))\n",
    "        tconv4 = F.tanh(self.tconv4(tconv3))\n",
    "\n",
    "        return tconv4"
   ]
  },
  {
   "cell_type": "code",
   "execution_count": 8,
   "metadata": {
    "collapsed": false
   },
   "outputs": [],
   "source": [
    "class UNetGeneratorSkip(nn.Module):\n",
    "    \"\"\"Generator module.\"\"\"\n",
    "\n",
    "    def __init__(self, start_filter):\n",
    "        \"\"\"Initialize generator.\"\"\"\n",
    "        super(UNetGeneratorSkip, self).__init__()\n",
    "\n",
    "        #################################\n",
    "        ####### DOWNSAMPLER MODULE ######\n",
    "        #################################\n",
    "\n",
    "        # 3 x 64 x 64\n",
    "        self.conv1 = nn.Conv2d(\n",
    "            in_channels=3, out_channels=start_filter, kernel_size=4,\n",
    "            stride=2, padding=1, bias=False\n",
    "        )\n",
    "        self.bn1 = nn.BatchNorm2d(start_filter)\n",
    "\n",
    "        # 16 x 32 x 32\n",
    "        self.conv2 = nn.Conv2d(\n",
    "            in_channels=start_filter, out_channels=start_filter * 2,\n",
    "            kernel_size=4, stride=2, padding=1, bias=False\n",
    "        )\n",
    "        self.bn2 = nn.BatchNorm2d(start_filter * 2)\n",
    "\n",
    "        # 32 x 16 x 16\n",
    "        self.conv3 = nn.Conv2d(\n",
    "            in_channels=start_filter * 2, out_channels=start_filter * 3,\n",
    "            kernel_size=4, stride=2, padding=1, bias=False\n",
    "        )\n",
    "        self.bn3 = nn.BatchNorm2d(start_filter * 3)\n",
    "\n",
    "        # 48 x 8 x 8\n",
    "        self.conv4 = nn.Conv2d(\n",
    "            in_channels=start_filter * 3, out_channels=start_filter * 4,\n",
    "            kernel_size=4, stride=2, padding=1, bias=False\n",
    "        )\n",
    "        self.bn4 = nn.BatchNorm2d(start_filter * 4)\n",
    "\n",
    "        #################################\n",
    "        ####### UPSAMPLER MODULE ########\n",
    "        #################################\n",
    "\n",
    "        # 64 x 4 x 4\n",
    "        self.tconv1 = nn.ConvTranspose2d(\n",
    "            in_channels=start_filter * 4, out_channels=start_filter * 3,\n",
    "            kernel_size=4, stride=2, padding=1, bias=False\n",
    "        )\n",
    "        self.tbn1 = nn.BatchNorm2d(start_filter * 3)\n",
    "\n",
    "        # 48 x 8 x 8 + 48 x 8 x 8 = [96 x 8 x 8]\n",
    "        self.tconv2 = nn.ConvTranspose2d(\n",
    "            in_channels=start_filter * 6, out_channels=start_filter * 2,\n",
    "            kernel_size=4, stride=2, padding=1, bias=False\n",
    "        )\n",
    "        self.tbn2 = nn.BatchNorm2d(start_filter * 2)\n",
    "\n",
    "        # 32 x 16 x 16 + 32 x 16 x 16 = [64 x 16 x 16]\n",
    "        self.tconv3 = nn.ConvTranspose2d(\n",
    "            in_channels=start_filter * 4, out_channels=3,\n",
    "            kernel_size=4, stride=2, padding=1, bias=False\n",
    "        )\n",
    "\n",
    "    def forward(self, input):\n",
    "        \"\"\"Propogate input through the generator.\"\"\"\n",
    "        # Downsampling steps.\n",
    "        conv1 = F.relu(self.bn1(self.conv1(input)))\n",
    "        conv2 = F.relu(self.bn2(self.conv2(conv1)))\n",
    "        conv3 = F.relu(self.bn3(self.conv3(conv2)))\n",
    "        conv4 = F.relu(self.bn4(self.conv4(conv3)))\n",
    "\n",
    "        # Upsampling steps.\n",
    "        tconv1 = F.relu(self.tbn1(self.tconv1(conv4)))\n",
    "        tconv1 = torch.cat((tconv1, conv3), 1)\n",
    "\n",
    "        tconv2 = F.relu(self.tbn2(self.tconv2(tconv1)))\n",
    "        tconv2 = torch.cat((tconv2, conv2), 1)\n",
    "\n",
    "        tconv3 = F.sigmoid(self.tconv3(tconv2))\n",
    "\n",
    "        return tconv3"
   ]
  },
  {
   "cell_type": "code",
   "execution_count": 9,
   "metadata": {
    "collapsed": false
   },
   "outputs": [],
   "source": [
    "class Discriminator(nn.Module):\n",
    "    \"\"\"Discriminator.\"\"\"\n",
    "\n",
    "    def __init__(self, start_filter):\n",
    "        \"\"\"Initialize params.\"\"\"\n",
    "        super(Discriminator, self).__init__()\n",
    "\n",
    "        # 3 x 32 x 32\n",
    "        self.conv1 = nn.Conv2d(\n",
    "            in_channels=3, out_channels=start_filter, kernel_size=4,\n",
    "            stride=2, padding=1, bias=False\n",
    "        )\n",
    "        self.bn1 = nn.BatchNorm2d(start_filter)\n",
    "\n",
    "        # 16 x 16 x 16\n",
    "        self.conv2 = nn.Conv2d(\n",
    "            in_channels=start_filter, out_channels=start_filter * 2,\n",
    "            kernel_size=4, stride=2, padding=1, bias=False\n",
    "        )\n",
    "        self.bn2 = nn.BatchNorm2d(start_filter * 2)\n",
    "\n",
    "        # 32 x 8 x 8\n",
    "        self.conv3 = nn.Conv2d(\n",
    "            in_channels=start_filter * 2, out_channels=start_filter * 3,\n",
    "            kernel_size=4, stride=2, padding=1, bias=False\n",
    "        )\n",
    "        self.bn3 = nn.BatchNorm2d(start_filter * 3)\n",
    "\n",
    "        # 48 x 4 x 4\n",
    "        self.conv4 = nn.Conv2d(\n",
    "            in_channels=start_filter * 3, out_channels=start_filter * 4,\n",
    "            kernel_size=4, stride=1, padding=1, bias=False\n",
    "        )\n",
    "        self.bn4 = nn.BatchNorm2d(start_filter * 4)\n",
    "\n",
    "        # 64 x 2 x 2\n",
    "        self.conv5 = nn.Conv2d(\n",
    "            in_channels=start_filter * 4, out_channels=1,\n",
    "            kernel_size=2, stride=2, padding=0, bias=False\n",
    "        )\n",
    "\n",
    "    def forward(self, input):\n",
    "        \"\"\"Propogate input through the network.\"\"\"\n",
    "        # Downsampling steps.\n",
    "        # print 'input', input.size()\n",
    "        conv1 = F.leaky_relu(self.bn1(self.conv1(input)))\n",
    "        # print 'conv1', conv1.size()\n",
    "        conv2 = F.leaky_relu(self.bn2(self.conv2(conv1)))\n",
    "        conv3 = F.leaky_relu(self.bn3(self.conv3(conv2)))\n",
    "        conv4 = F.leaky_relu(self.bn4(self.conv4(conv3)))\n",
    "        # print 'conv4', conv4.size()\n",
    "        conv5 = F.sigmoid(self.conv5(conv4))\n",
    "\n",
    "        return conv5.squeeze()"
   ]
  },
  {
   "cell_type": "code",
   "execution_count": 10,
   "metadata": {
    "collapsed": true
   },
   "outputs": [],
   "source": [
    "generator = UNetGeneratorSkip(start_filter=64).cuda()\n",
    "discriminator = Discriminator(start_filter=16).cuda()\n",
    "optimizer_generator = optim.Adam(generator.parameters(), lr=1e-3, betas=(0.5, 0.999))\n",
    "optimizer_discriminator = optim.Adam(discriminator.parameters(), lr=1e-3, betas=(0.5, 0.999))\n",
    "clamp_lower = -0.05\n",
    "clamp_upper = 0.05\n",
    "loss_criterion = nn.MSELoss().cuda()\n",
    "save_dir = '/home/sandeep/Research/inpainting/samples'"
   ]
  },
  {
   "cell_type": "code",
   "execution_count": 11,
   "metadata": {
    "collapsed": false
   },
   "outputs": [],
   "source": [
    "def save_plots(epoch, fake_images, real_images, real_examples_full):\n",
    "    j = np.random.randint(low=0, high=500)\n",
    "    real_examples_full, real_examples, fake_images = iterator.get_valid_minibatch(j, 32)\n",
    "    reconstructions = generator(fake_images)\n",
    "    # fig = plt.figure(figsize=(20, 40))\n",
    "    # idx = 1\n",
    "    reconstructions = reconstructions.data.cpu().numpy()\n",
    "    real = real_examples_full.data.cpu().numpy()\n",
    "    real_copy = copy.deepcopy(real)\n",
    "    real_copy[:, :, 16:48, 16:48] = reconstructions\n",
    "    real_copy = torch.from_numpy(real_copy)\n",
    "    real = torch.from_numpy(real)\n",
    "    out_tensor = torch.zeros(1, real_copy.size(1), real_copy.size(2), real_copy.size(3))\n",
    "    for zz, zzz in zip(real_copy[:10], real[:10]):\n",
    "        out_tensor = torch.cat([out_tensor, zz.unsqueeze(0)])\n",
    "        out_tensor = torch.cat([out_tensor, zzz.unsqueeze(0)])\n",
    "    vutils.save_image(out_tensor[1:], 'samples_l2/epoch_%d_samples.png' % (epoch), normalize=True, scale_each=True, nrow=4)\n",
    "    '''\n",
    "    for reconstruction, real_ in zip(real_copy[:20], real[:20]):\n",
    "        fig.add_subplot(5, 8, idx)\n",
    "        plt.imshow(reconstruction.transpose(1, 2, 0))\n",
    "        plt.axis('off')\n",
    "        fig.add_subplot(5, 8, idx + 1)\n",
    "        plt.imshow(real_.transpose(1, 2, 0))\n",
    "        plt.axis('off')\n",
    "        idx += 2\n",
    "    plt.savefig('samples/epoch_%d_samples' % (epoch))\n",
    "    '''"
   ]
  },
  {
   "cell_type": "code",
   "execution_count": 12,
   "metadata": {
    "collapsed": false
   },
   "outputs": [
    {
     "name": "stdout",
     "output_type": "stream",
     "text": [
      "[0] Loss_G: 0.038416\n",
      "[1] Loss_G: 0.035251\n",
      "[2] Loss_G: 0.034082\n",
      "[3] Loss_G: 0.033116\n",
      "[4] Loss_G: 0.032056\n",
      "[5] Loss_G: 0.030662\n",
      "[6] Loss_G: 0.028924\n",
      "[7] Loss_G: 0.027201\n",
      "[8] Loss_G: 0.025739\n",
      "[9] Loss_G: 0.024449\n",
      "[10] Loss_G: 0.023243\n",
      "[11] Loss_G: 0.022144\n",
      "[12] Loss_G: 0.021192\n",
      "[13] Loss_G: 0.020300\n",
      "[14] Loss_G: 0.019520\n",
      "[15] Loss_G: 0.018826\n",
      "[16] Loss_G: 0.018228\n",
      "[17] Loss_G: 0.017698\n",
      "[18] Loss_G: 0.017211\n",
      "[19] Loss_G: 0.016751\n",
      "[20] Loss_G: 0.016310\n",
      "[21] Loss_G: 0.015898\n",
      "[22] Loss_G: 0.015548\n",
      "[23] Loss_G: 0.015221\n",
      "[24] Loss_G: 0.014938\n",
      "[25] Loss_G: 0.014671\n",
      "[26] Loss_G: 0.014376\n",
      "[27] Loss_G: 0.014136\n",
      "[28] Loss_G: 0.013905\n",
      "[29] Loss_G: 0.013731\n",
      "[30] Loss_G: 0.013521\n",
      "[31] Loss_G: 0.013343\n",
      "[32] Loss_G: 0.013158\n",
      "[33] Loss_G: 0.012947\n",
      "[34] Loss_G: 0.012795\n",
      "[35] Loss_G: 0.012670\n",
      "[36] Loss_G: 0.012546\n",
      "[37] Loss_G: 0.012384\n"
     ]
    },
    {
     "ename": "KeyboardInterrupt",
     "evalue": "",
     "output_type": "error",
     "traceback": [
      "\u001b[0;31m---------------------------------------------------------------------------\u001b[0m",
      "\u001b[0;31mKeyboardInterrupt\u001b[0m                         Traceback (most recent call last)",
      "\u001b[0;32m<ipython-input-12-59a1065c4ba7>\u001b[0m in \u001b[0;36m<module>\u001b[0;34m()\u001b[0m\n\u001b[1;32m      5\u001b[0m         \u001b[0mreal_examples_full\u001b[0m\u001b[0;34m,\u001b[0m \u001b[0mreal_examples\u001b[0m\u001b[0;34m,\u001b[0m \u001b[0mfake_images\u001b[0m \u001b[0;34m=\u001b[0m \u001b[0miterator\u001b[0m\u001b[0;34m.\u001b[0m\u001b[0mget_train_minibatch\u001b[0m\u001b[0;34m(\u001b[0m\u001b[0mj\u001b[0m\u001b[0;34m,\u001b[0m \u001b[0;36m32\u001b[0m\u001b[0;34m)\u001b[0m\u001b[0;34m\u001b[0m\u001b[0m\n\u001b[1;32m      6\u001b[0m \u001b[0;34m\u001b[0m\u001b[0m\n\u001b[0;32m----> 7\u001b[0;31m         \u001b[0mgenerated_images\u001b[0m \u001b[0;34m=\u001b[0m \u001b[0mgenerator\u001b[0m\u001b[0;34m(\u001b[0m\u001b[0mfake_images\u001b[0m\u001b[0;34m)\u001b[0m\u001b[0;34m\u001b[0m\u001b[0m\n\u001b[0m\u001b[1;32m      8\u001b[0m         \u001b[0mgenerator_loss\u001b[0m \u001b[0;34m=\u001b[0m \u001b[0mloss_criterion\u001b[0m\u001b[0;34m(\u001b[0m\u001b[0mgenerated_images\u001b[0m\u001b[0;34m,\u001b[0m \u001b[0mreal_examples\u001b[0m\u001b[0;34m)\u001b[0m\u001b[0;34m\u001b[0m\u001b[0m\n\u001b[1;32m      9\u001b[0m         \u001b[0moptimizer_generator\u001b[0m\u001b[0;34m.\u001b[0m\u001b[0mzero_grad\u001b[0m\u001b[0;34m(\u001b[0m\u001b[0;34m)\u001b[0m\u001b[0;34m\u001b[0m\u001b[0m\n",
      "\u001b[0;32m/home/sandeep/anaconda2/lib/python2.7/site-packages/torch/nn/modules/module.pyc\u001b[0m in \u001b[0;36m__call__\u001b[0;34m(self, *input, **kwargs)\u001b[0m\n\u001b[1;32m    200\u001b[0m \u001b[0;34m\u001b[0m\u001b[0m\n\u001b[1;32m    201\u001b[0m     \u001b[0;32mdef\u001b[0m \u001b[0m__call__\u001b[0m\u001b[0;34m(\u001b[0m\u001b[0mself\u001b[0m\u001b[0;34m,\u001b[0m \u001b[0;34m*\u001b[0m\u001b[0minput\u001b[0m\u001b[0;34m,\u001b[0m \u001b[0;34m**\u001b[0m\u001b[0mkwargs\u001b[0m\u001b[0;34m)\u001b[0m\u001b[0;34m:\u001b[0m\u001b[0;34m\u001b[0m\u001b[0m\n\u001b[0;32m--> 202\u001b[0;31m         \u001b[0mresult\u001b[0m \u001b[0;34m=\u001b[0m \u001b[0mself\u001b[0m\u001b[0;34m.\u001b[0m\u001b[0mforward\u001b[0m\u001b[0;34m(\u001b[0m\u001b[0;34m*\u001b[0m\u001b[0minput\u001b[0m\u001b[0;34m,\u001b[0m \u001b[0;34m**\u001b[0m\u001b[0mkwargs\u001b[0m\u001b[0;34m)\u001b[0m\u001b[0;34m\u001b[0m\u001b[0m\n\u001b[0m\u001b[1;32m    203\u001b[0m         \u001b[0;32mfor\u001b[0m \u001b[0mhook\u001b[0m \u001b[0;32min\u001b[0m \u001b[0mself\u001b[0m\u001b[0;34m.\u001b[0m\u001b[0m_forward_hooks\u001b[0m\u001b[0;34m.\u001b[0m\u001b[0mvalues\u001b[0m\u001b[0;34m(\u001b[0m\u001b[0;34m)\u001b[0m\u001b[0;34m:\u001b[0m\u001b[0;34m\u001b[0m\u001b[0m\n\u001b[1;32m    204\u001b[0m             \u001b[0mhook_result\u001b[0m \u001b[0;34m=\u001b[0m \u001b[0mhook\u001b[0m\u001b[0;34m(\u001b[0m\u001b[0mself\u001b[0m\u001b[0;34m,\u001b[0m \u001b[0minput\u001b[0m\u001b[0;34m,\u001b[0m \u001b[0mresult\u001b[0m\u001b[0;34m)\u001b[0m\u001b[0;34m\u001b[0m\u001b[0m\n",
      "\u001b[0;32m<ipython-input-8-982109a7e549>\u001b[0m in \u001b[0;36mforward\u001b[0;34m(self, input)\u001b[0m\n\u001b[1;32m     68\u001b[0m         \u001b[0mconv2\u001b[0m \u001b[0;34m=\u001b[0m \u001b[0mF\u001b[0m\u001b[0;34m.\u001b[0m\u001b[0mrelu\u001b[0m\u001b[0;34m(\u001b[0m\u001b[0mself\u001b[0m\u001b[0;34m.\u001b[0m\u001b[0mbn2\u001b[0m\u001b[0;34m(\u001b[0m\u001b[0mself\u001b[0m\u001b[0;34m.\u001b[0m\u001b[0mconv2\u001b[0m\u001b[0;34m(\u001b[0m\u001b[0mconv1\u001b[0m\u001b[0;34m)\u001b[0m\u001b[0;34m)\u001b[0m\u001b[0;34m)\u001b[0m\u001b[0;34m\u001b[0m\u001b[0m\n\u001b[1;32m     69\u001b[0m         \u001b[0mconv3\u001b[0m \u001b[0;34m=\u001b[0m \u001b[0mF\u001b[0m\u001b[0;34m.\u001b[0m\u001b[0mrelu\u001b[0m\u001b[0;34m(\u001b[0m\u001b[0mself\u001b[0m\u001b[0;34m.\u001b[0m\u001b[0mbn3\u001b[0m\u001b[0;34m(\u001b[0m\u001b[0mself\u001b[0m\u001b[0;34m.\u001b[0m\u001b[0mconv3\u001b[0m\u001b[0;34m(\u001b[0m\u001b[0mconv2\u001b[0m\u001b[0;34m)\u001b[0m\u001b[0;34m)\u001b[0m\u001b[0;34m)\u001b[0m\u001b[0;34m\u001b[0m\u001b[0m\n\u001b[0;32m---> 70\u001b[0;31m         \u001b[0mconv4\u001b[0m \u001b[0;34m=\u001b[0m \u001b[0mF\u001b[0m\u001b[0;34m.\u001b[0m\u001b[0mrelu\u001b[0m\u001b[0;34m(\u001b[0m\u001b[0mself\u001b[0m\u001b[0;34m.\u001b[0m\u001b[0mbn4\u001b[0m\u001b[0;34m(\u001b[0m\u001b[0mself\u001b[0m\u001b[0;34m.\u001b[0m\u001b[0mconv4\u001b[0m\u001b[0;34m(\u001b[0m\u001b[0mconv3\u001b[0m\u001b[0;34m)\u001b[0m\u001b[0;34m)\u001b[0m\u001b[0;34m)\u001b[0m\u001b[0;34m\u001b[0m\u001b[0m\n\u001b[0m\u001b[1;32m     71\u001b[0m \u001b[0;34m\u001b[0m\u001b[0m\n\u001b[1;32m     72\u001b[0m         \u001b[0;31m# Upsampling steps.\u001b[0m\u001b[0;34m\u001b[0m\u001b[0;34m\u001b[0m\u001b[0m\n",
      "\u001b[0;32m/home/sandeep/anaconda2/lib/python2.7/site-packages/torch/nn/modules/module.pyc\u001b[0m in \u001b[0;36m__call__\u001b[0;34m(self, *input, **kwargs)\u001b[0m\n\u001b[1;32m    200\u001b[0m \u001b[0;34m\u001b[0m\u001b[0m\n\u001b[1;32m    201\u001b[0m     \u001b[0;32mdef\u001b[0m \u001b[0m__call__\u001b[0m\u001b[0;34m(\u001b[0m\u001b[0mself\u001b[0m\u001b[0;34m,\u001b[0m \u001b[0;34m*\u001b[0m\u001b[0minput\u001b[0m\u001b[0;34m,\u001b[0m \u001b[0;34m**\u001b[0m\u001b[0mkwargs\u001b[0m\u001b[0;34m)\u001b[0m\u001b[0;34m:\u001b[0m\u001b[0;34m\u001b[0m\u001b[0m\n\u001b[0;32m--> 202\u001b[0;31m         \u001b[0mresult\u001b[0m \u001b[0;34m=\u001b[0m \u001b[0mself\u001b[0m\u001b[0;34m.\u001b[0m\u001b[0mforward\u001b[0m\u001b[0;34m(\u001b[0m\u001b[0;34m*\u001b[0m\u001b[0minput\u001b[0m\u001b[0;34m,\u001b[0m \u001b[0;34m**\u001b[0m\u001b[0mkwargs\u001b[0m\u001b[0;34m)\u001b[0m\u001b[0;34m\u001b[0m\u001b[0m\n\u001b[0m\u001b[1;32m    203\u001b[0m         \u001b[0;32mfor\u001b[0m \u001b[0mhook\u001b[0m \u001b[0;32min\u001b[0m \u001b[0mself\u001b[0m\u001b[0;34m.\u001b[0m\u001b[0m_forward_hooks\u001b[0m\u001b[0;34m.\u001b[0m\u001b[0mvalues\u001b[0m\u001b[0;34m(\u001b[0m\u001b[0;34m)\u001b[0m\u001b[0;34m:\u001b[0m\u001b[0;34m\u001b[0m\u001b[0m\n\u001b[1;32m    204\u001b[0m             \u001b[0mhook_result\u001b[0m \u001b[0;34m=\u001b[0m \u001b[0mhook\u001b[0m\u001b[0;34m(\u001b[0m\u001b[0mself\u001b[0m\u001b[0;34m,\u001b[0m \u001b[0minput\u001b[0m\u001b[0;34m,\u001b[0m \u001b[0mresult\u001b[0m\u001b[0;34m)\u001b[0m\u001b[0;34m\u001b[0m\u001b[0m\n",
      "\u001b[0;32m/home/sandeep/anaconda2/lib/python2.7/site-packages/torch/nn/modules/conv.pyc\u001b[0m in \u001b[0;36mforward\u001b[0;34m(self, input)\u001b[0m\n\u001b[1;32m    235\u001b[0m     \u001b[0;32mdef\u001b[0m \u001b[0mforward\u001b[0m\u001b[0;34m(\u001b[0m\u001b[0mself\u001b[0m\u001b[0;34m,\u001b[0m \u001b[0minput\u001b[0m\u001b[0;34m)\u001b[0m\u001b[0;34m:\u001b[0m\u001b[0;34m\u001b[0m\u001b[0m\n\u001b[1;32m    236\u001b[0m         return F.conv2d(input, self.weight, self.bias, self.stride,\n\u001b[0;32m--> 237\u001b[0;31m                         self.padding, self.dilation, self.groups)\n\u001b[0m\u001b[1;32m    238\u001b[0m \u001b[0;34m\u001b[0m\u001b[0m\n\u001b[1;32m    239\u001b[0m \u001b[0;34m\u001b[0m\u001b[0m\n",
      "\u001b[0;32m/home/sandeep/anaconda2/lib/python2.7/site-packages/torch/nn/functional.pyc\u001b[0m in \u001b[0;36mconv2d\u001b[0;34m(input, weight, bias, stride, padding, dilation, groups)\u001b[0m\n\u001b[1;32m     37\u001b[0m     f = ConvNd(_pair(stride), _pair(padding), _pair(dilation), False,\n\u001b[1;32m     38\u001b[0m                _pair(0), groups, torch.backends.cudnn.benchmark, torch.backends.cudnn.enabled)\n\u001b[0;32m---> 39\u001b[0;31m     \u001b[0;32mreturn\u001b[0m \u001b[0mf\u001b[0m\u001b[0;34m(\u001b[0m\u001b[0minput\u001b[0m\u001b[0;34m,\u001b[0m \u001b[0mweight\u001b[0m\u001b[0;34m,\u001b[0m \u001b[0mbias\u001b[0m\u001b[0;34m)\u001b[0m\u001b[0;34m\u001b[0m\u001b[0m\n\u001b[0m\u001b[1;32m     40\u001b[0m \u001b[0;34m\u001b[0m\u001b[0m\n\u001b[1;32m     41\u001b[0m \u001b[0;34m\u001b[0m\u001b[0m\n",
      "\u001b[0;31mKeyboardInterrupt\u001b[0m: "
     ]
    }
   ],
   "source": [
    "for i in xrange(1000):\n",
    "    discriminator_losses = []\n",
    "    generator_losses = []\n",
    "    for j in xrange(0, iterator.num_train, 32):\n",
    "        real_examples_full, real_examples, fake_images = iterator.get_train_minibatch(j, 32)\n",
    "        \n",
    "        generated_images = generator(fake_images)\n",
    "        generator_loss = loss_criterion(generated_images, real_examples)\n",
    "        optimizer_generator.zero_grad()\n",
    "        generator_loss.backward()\n",
    "        optimizer_generator.step()\n",
    "        generator_losses.append(generator_loss.data[0])\n",
    "\n",
    "    print '[%d] Loss_G: %f' % (i, np.mean(generator_losses))\n",
    "    save_plots(i, fake_images, real_examples, real_examples_full)"
   ]
  },
  {
   "cell_type": "code",
   "execution_count": 76,
   "metadata": {
    "collapsed": false
   },
   "outputs": [],
   "source": [
    "save_plots(i, fake_images, real_examples, real_examples_full)"
   ]
  },
  {
   "cell_type": "code",
   "execution_count": null,
   "metadata": {
    "collapsed": true
   },
   "outputs": [],
   "source": [
    "torch.stack()"
   ]
  },
  {
   "cell_type": "code",
   "execution_count": 16,
   "metadata": {
    "collapsed": false
   },
   "outputs": [
    {
     "data": {
      "text/plain": [
       "<matplotlib.image.AxesImage at 0x7f535d74cf90>"
      ]
     },
     "execution_count": 16,
     "metadata": {},
     "output_type": "execute_result"
    },
    {
     "data": {
      "image/png": "[encoded data removed]",
      "text/plain": [
       "<matplotlib.figure.Figure at 0x7f535d86a8d0>"
      ]
     },
     "metadata": {},
     "output_type": "display_data"
    }
   ],
   "source": [
    "plt.imshow(real_examples[25].data.cpu().numpy().transpose(1, 2, 0))"
   ]
  },
  {
   "cell_type": "code",
   "execution_count": 17,
   "metadata": {
    "collapsed": false
   },
   "outputs": [
    {
     "data": {
      "text/plain": [
       "<matplotlib.image.AxesImage at 0x7f535d657510>"
      ]
     },
     "execution_count": 17,
     "metadata": {},
     "output_type": "execute_result"
    },
    {
     "data": {
      "image/png": "[encoded data removed]",
      "text/plain": [
       "<matplotlib.figure.Figure at 0x7f535d7b86d0>"
      ]
     },
     "metadata": {},
     "output_type": "display_data"
    }
   ],
   "source": [
    "plt.imshow(fake_images[25].data.cpu().numpy().transpose(1, 2, 0))"
   ]
  },
  {
   "cell_type": "code",
   "execution_count": null,
   "metadata": {
    "collapsed": true
   },
   "outputs": [],
   "source": [
    "x = np.random.rand(10, 3, 64, 64)\n",
    "y = np"
   ]
  }
 ],
 "metadata": {
  "kernelspec": {
   "display_name": "Python 2",
   "language": "python",
   "name": "python2"
  },
  "language_info": {
   "codemirror_mode": {
    "name": "ipython",
    "version": 2
   },
   "file_extension": ".py",
   "mimetype": "text/x-python",
   "name": "python",
   "nbconvert_exporter": "python",
   "pygments_lexer": "ipython2",
   "version": "2.7.13"
  }
 },
 "nbformat": 4,
 "nbformat_minor": 2
}
